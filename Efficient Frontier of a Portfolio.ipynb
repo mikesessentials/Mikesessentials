{
 "cells": [
  {
   "cell_type": "code",
   "execution_count": null,
   "id": "ae7ece24",
   "metadata": {},
   "outputs": [],
   "source": [
    "import pandas as pd \n",
    "import matplotlib.pyplot as plt\n",
    "import numpy as np \n",
    "import yfinance as yf "
   ]
  },
  {
   "cell_type": "code",
   "execution_count": null,
   "id": "b8209d96",
   "metadata": {},
   "outputs": [],
   "source": [
    "#select the stocks in the portfolio\n",
    "tickers = [\"JPM\",\"MA\",\"v\",\"AMZN\",\"INTC\",\"TRU\",\"F\",\"TLT\",\"BTG\",\"^GSPC\"]\n",
    "\n",
    "tickers_2 = pd.DataFrame()\n",
    "\n",
    "for t in tickers:\n",
    "    tickers_2[t] = yf.download(t, start = \"2020-1-1\") [\"Close\"]\n",
    "tickers_2.head()\n",
    "\n",
    "\n",
    "# visualize the data\n",
    "(tickers_2/tickers_2.iloc[0] * 100).plot(figsize=(10,6))"
   ]
  },
  {
   "cell_type": "code",
   "execution_count": null,
   "id": "930077b1",
   "metadata": {},
   "outputs": [],
   "source": [
    "#find the mean and visualize the mean\n",
    "\n",
    "returns = (tickers_2 /tickers_2.shift(1)) - 1 \n",
    "returns.mean() * 250 * 100\n",
    "returns.plot(figsize=(10,6))"
   ]
  },
  {
   "cell_type": "code",
   "execution_count": null,
   "id": "fbd2cada",
   "metadata": {},
   "outputs": [],
   "source": [
    "# find the Covariance, Correlation and deviation of the returns of the stock\n",
    "cov = returns.cov() * 250\n",
    "corr = returns.corr() * 250\n",
    "std = returns.std() * 250 ** 0.5 * 100\n",
    "\n",
    "print(cov)\n",
    "print(corr)\n",
    "print(std)"
   ]
  },
  {
   "cell_type": "code",
   "execution_count": null,
   "id": "c0c02926",
   "metadata": {},
   "outputs": [],
   "source": [
    "#plotting the covariance or correlation of each stock on a heat map to understand it better\n",
    "plt.figure(figsize=(8, 6))\n",
    "plt.imshow(cov, cmap=\"coolwarm\", interpolation='nearest')\n",
    "\n",
    "# Fix xticks and yticks\n",
    "plt.xticks(ticks=np.arange(len(tickers)), labels=tickers, rotation=45)\n",
    "plt.yticks(ticks=np.arange(len(tickers)), labels=tickers)\n",
    "\n",
    "plt.colorbar()\n",
    "plt.title(\"Correlation Heatmap\")\n",
    "plt.tight_layout()\n",
    "plt.show()\n"
   ]
  },
  {
   "cell_type": "code",
   "execution_count": null,
   "id": "235e61ac",
   "metadata": {},
   "outputs": [],
   "source": [
    "#calculate portfolio expected returns & volatility\n",
    "\n",
    "pfolio_returns = []\n",
    "pfolio_volatilities = []\n",
    "pfolio_sharpe_ratios = []\n",
    "\n",
    "for x in range (5000):\n",
    "        num_tickers = len(tickers)\n",
    "        weights = np.random.random(num_tickers)\n",
    "        weights /= np.sum(weights)\n",
    "        pfolio_returns.append(np.sum(weights * returns.mean())*250)\n",
    "        pfolio_volatilities.append(np.sqrt(np.dot(weights.T,np.dot(returns.cov()*250,weights))))\n",
    "\n",
    "pfolio_returns = np.array(pfolio_returns)\n",
    "pfolio_volatilities = np.array(pfolio_volatilities)\n",
    "pfolio_sharpe_ratios = np.array(pfolio_returns/pfolio_volatilities)\n",
    "\n",
    "\n",
    "pfolio_returns, pfolio_volatilities , pfolio_sharpe_ratios"
   ]
  },
  {
   "cell_type": "code",
   "execution_count": null,
   "id": "5b6f811b",
   "metadata": {},
   "outputs": [],
   "source": [
    "# plot a graph that shows the efficient frontier wih the most optimal.\n",
    "\n",
    "\n",
    "portfolios = pd.DataFrame({ \"Return\": pfolio_returns, \"Volatility\": pfolio_volatilities, \"Sharpe Ratio\": pfolio_sharpe_ratios})\n",
    "\n",
    "# Identify max Sharpe Ratio\n",
    "max_sharpe_idx = portfolios[\"Sharpe Ratio\"].idxmax()\n",
    "max_sharpe_port = portfolios.loc[max_sharpe_idx]\n",
    "\n",
    "# Plot Efficient Frontier\n",
    "plt.figure(figsize=(10, 6))\n",
    "scatter = plt.scatter(portfolios[\"Volatility\"],portfolios[\"Return\"], c=portfolios[\"Sharpe Ratio\"],  cmap='plasma', s=10, alpha=0.8)\n",
    "plt.colorbar(scatter, label='Sharpe Ratio')\n",
    "\n",
    "# Mark the max Sharpe Ratio portfolio\n",
    "plt.scatter(\n",
    "    max_sharpe_port[\"Volatility\"],\n",
    "    max_sharpe_port[\"Return\"],\n",
    "    color='red',\n",
    "    marker='*',\n",
    "    s=200,\n",
    "    label='Max Sharpe Ratio'\n",
    ")\n",
    "\n",
    "# Final touches\n",
    "plt.xlabel(\"Expected Volatility\")\n",
    "plt.ylabel(\"Expected Return\")\n",
    "plt.title(\"Efficient Frontier with Max Sharpe Ratio Portfolio\")\n",
    "plt.legend()\n",
    "plt.grid(True)\n",
    "plt.show()\n"
   ]
  }
 ],
 "metadata": {
  "kernelspec": {
   "display_name": "Python 3",
   "language": "python",
   "name": "python3"
  },
  "language_info": {
   "codemirror_mode": {
    "name": "ipython",
    "version": 3
   },
   "file_extension": ".py",
   "mimetype": "text/x-python",
   "name": "python",
   "nbconvert_exporter": "python",
   "pygments_lexer": "ipython3",
   "version": "3.11.9"
  }
 },
 "nbformat": 4,
 "nbformat_minor": 5
}
